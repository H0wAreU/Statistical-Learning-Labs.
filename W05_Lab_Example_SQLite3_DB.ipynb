{
  "nbformat": 4,
  "nbformat_minor": 0,
  "metadata": {
    "colab": {
      "provenance": [],
      "include_colab_link": true
    },
    "kernelspec": {
      "name": "python3",
      "display_name": "Python 3"
    }
  },
  "cells": [
    {
      "cell_type": "markdown",
      "metadata": {
        "id": "view-in-github",
        "colab_type": "text"
      },
      "source": [
        "<a href=\"https://colab.research.google.com/github/H0wAreU/Statistical-Learning-Labs./blob/main/W05_Lab_Example_SQLite3_DB.ipynb\" target=\"_parent\"><img src=\"https://colab.research.google.com/assets/colab-badge.svg\" alt=\"Open In Colab\"/></a>"
      ]
    },
    {
      "cell_type": "markdown",
      "source": [
        "# **link คำสั่งเพิ่มเติมเกี่ยวกับ sqlite3**\n",
        "\n",
        "https://docs.python.org/3/library/sqlite3.html"
      ],
      "metadata": {
        "id": "zagJORfeBgNy"
      }
    },
    {
      "cell_type": "markdown",
      "metadata": {
        "id": "DhIYfY_X0Rsv"
      },
      "source": [
        "#**เชื่อมต่อฐานข้อมูล test.db(Connect Database)**"
      ]
    },
    {
      "cell_type": "code",
      "metadata": {
        "id": "2yDBRMutwIUU",
        "collapsed": true
      },
      "source": [
        "import sqlite3\n",
        "\n",
        "conn = sqlite3.connect('test.db')\n",
        "print(\"Opened database successfully\")\n",
        "conn.close()"
      ],
      "execution_count": null,
      "outputs": []
    },
    {
      "cell_type": "markdown",
      "metadata": {
        "id": "AWax1b2-0k1Z"
      },
      "source": [
        "# **สร้างตารางฐานข้อมูล (Create Table)**"
      ]
    },
    {
      "cell_type": "code",
      "metadata": {
        "id": "LRRmM2tswXSr"
      },
      "source": [
        "conn = sqlite3.connect('test.db')\n",
        "\n",
        "with conn:\n",
        "  conn.execute('''CREATE TABLE COMPANY\n",
        "         (ID INT PRIMARY KEY     NOT NULL,\n",
        "         NAME           TEXT    NOT NULL,\n",
        "         AGE            INT     NOT NULL,\n",
        "         ADDRESS        CHAR(50),\n",
        "         SALARY         REAL)''')\n",
        "\n",
        "conn.close()\n",
        "print(\"Table created successfully\")"
      ],
      "execution_count": null,
      "outputs": []
    },
    {
      "cell_type": "markdown",
      "metadata": {
        "id": "D6M_9qnY1VfT"
      },
      "source": [
        "# **แทรกข้อมูลในตาราง (Insert Data)**"
      ]
    },
    {
      "cell_type": "code",
      "metadata": {
        "id": "dKnWw1B2yEbN"
      },
      "source": [
        "conn = sqlite3.connect('test.db')\n",
        "\n",
        "with conn:\n",
        "  conn.execute(\"INSERT INTO COMPANY (ID,NAME,AGE,ADDRESS,SALARY) \\\n",
        "      VALUES (1, 'Paul', 32, 'California', 20000.00 )\");\n",
        "\n",
        "  conn.execute(\"INSERT INTO COMPANY (ID,NAME,AGE,ADDRESS,SALARY) \\\n",
        "      VALUES (2, 'Allen', 25, 'Texas', 15000.00 )\");\n",
        "conn.close()\n",
        "print(\"Records created successfully\")"
      ],
      "execution_count": null,
      "outputs": []
    },
    {
      "cell_type": "markdown",
      "metadata": {
        "id": "auJCTyA51iFS"
      },
      "source": [
        "# **แทรกข้อมูลในตาราง แบบสั้น**"
      ]
    },
    {
      "cell_type": "code",
      "metadata": {
        "id": "fIBT92NZyPoD"
      },
      "source": [
        "conn = sqlite3.connect('test.db')\n",
        "\n",
        "with conn:\n",
        "  conn.execute(\"INSERT INTO COMPANY VALUES (3, 'Teddy', 23, 'Norway', 20000.00)\")\n",
        "  conn.execute(\"INSERT INTO COMPANY VALUES (4, 'Mark', 25, 'Rich-Mond ', 65000.00)\")\n",
        "  conn.execute(\"INSERT INTO COMPANY VALUES (5, 'David', 27, 'Texas', 85000.00)\")\n",
        "  conn.execute(\"INSERT INTO COMPANY VALUES (6, 'Kim', 22, 'South-Hall', 45000.00)\")\n",
        "  conn.execute(\"INSERT INTO COMPANY VALUES (7, 'James', 24, 'Houston', 10000.00)\")\n",
        "  conn.execute(\"INSERT INTO COMPANY VALUES (8, 'Paul', 24, 'Houston', 20000.00)\")\n",
        "  conn.execute(\"INSERT INTO COMPANY VALUES (9, 'James', 44, 'Norway', 5000.00)\")\n",
        "  #conn.commit()\n",
        "\n",
        "conn.close()\n",
        "print(\"Records created successfully\")"
      ],
      "execution_count": null,
      "outputs": []
    },
    {
      "cell_type": "markdown",
      "metadata": {
        "id": "66iCdV_T1tdY"
      },
      "source": [
        "# **สร้าง Utility สำหรับดูข้อมูล**"
      ]
    },
    {
      "cell_type": "code",
      "metadata": {
        "id": "fcGwhBwGzyWS"
      },
      "source": [
        "import numpy as np\n",
        "import pandas as pd\n",
        "\n",
        "def get_data(cursor):\n",
        "  all_rows = cursor.fetchall()\n",
        "  #[all_rows.append(np.array(row)) for row in cursor]\n",
        "  column_names = [description[0] for description in cursor.description]\n",
        "  df = pd.DataFrame(data=all_rows, columns = column_names)\n",
        "  # ซ่อน index\n",
        "  blankIndex=[''] * len(df)\n",
        "  df.index=blankIndex\n",
        "  return df"
      ],
      "execution_count": null,
      "outputs": []
    },
    {
      "cell_type": "markdown",
      "metadata": {
        "id": "WwKNxiBU1-wH"
      },
      "source": [
        "# **คิวรี่ข้อมูลจากตาราง(Select From Table)**"
      ]
    },
    {
      "cell_type": "code",
      "metadata": {
        "id": "z91vPoYty8hQ"
      },
      "source": [
        "conn = sqlite3.connect('test.db')\n",
        "\n",
        "with conn:\n",
        "  cursor = conn.execute(\"SELECT * FROM COMPANY\")\n",
        "\n",
        "df=get_data(cursor)\n",
        "conn.close()\n",
        "print(\"Operation done successfully\")\n",
        "df"
      ],
      "execution_count": null,
      "outputs": []
    },
    {
      "cell_type": "markdown",
      "metadata": {
        "id": "DsLijAp-23zZ"
      },
      "source": [
        "# **แก้ไขตาราง**"
      ]
    },
    {
      "cell_type": "markdown",
      "metadata": {
        "id": "OElGyXuC3DC9"
      },
      "source": [
        "**เปลี่ยนชื่อ Table**"
      ]
    },
    {
      "cell_type": "code",
      "metadata": {
        "id": "lJKJrVXIbbGQ",
        "colab": {
          "base_uri": "https://localhost:8080/"
        },
        "outputId": "aa080d20-3c9b-444f-97a5-a3bcf004552f"
      },
      "source": [
        "conn = sqlite3.connect('test.db')\n",
        "\n",
        "with conn:\n",
        "  cursor = conn.execute(\"ALTER TABLE COMPANY RENAME TO OLD_COMPANY\")\n",
        "\n",
        "conn.close()\n",
        "print(\"Operation done successfully\")"
      ],
      "execution_count": null,
      "outputs": [
        {
          "output_type": "stream",
          "name": "stdout",
          "text": [
            "Operation done successfully\n"
          ]
        }
      ]
    },
    {
      "cell_type": "markdown",
      "metadata": {
        "id": "Mw3TruQv3jzS"
      },
      "source": [
        "**เพิ่มคอลัมน์**"
      ]
    },
    {
      "cell_type": "code",
      "metadata": {
        "id": "7olx3Vfn3gEr"
      },
      "source": [
        "conn = sqlite3.connect('test.db')\n",
        "\n",
        "with conn:\n",
        "  cursor = conn.execute(\"ALTER TABLE OLD_COMPANY ADD COLUMN SEX char(1)\")\n",
        "\n",
        "conn.close()\n",
        "print(\"Operation done successfully\")"
      ],
      "execution_count": null,
      "outputs": []
    },
    {
      "cell_type": "markdown",
      "metadata": {
        "id": "63LjwrPK35hg"
      },
      "source": [
        "**คิวรี่หลังการเปลี่ยนแปลง**"
      ]
    },
    {
      "cell_type": "code",
      "metadata": {
        "id": "23H6k2Zm335s"
      },
      "source": [
        "conn = sqlite3.connect('test.db')\n",
        "\n",
        "with conn:\n",
        "  cursor = conn.execute(\"SELECT * FROM OLD_COMPANY\")\n",
        "\n",
        "df=get_data(cursor)\n",
        "conn.close()\n",
        "print(\"Operation done successfully\")\n",
        "df"
      ],
      "execution_count": null,
      "outputs": []
    },
    {
      "cell_type": "markdown",
      "metadata": {
        "id": "e1qckAXAVKOU"
      },
      "source": [
        "# **ลบตาราง(Drop Table)**"
      ]
    },
    {
      "cell_type": "code",
      "metadata": {
        "id": "COjjW4syVSjg"
      },
      "source": [
        "conn = sqlite3.connect('test.db')\n",
        "\n",
        "with conn:\n",
        "  conn.execute(\"DROP table IF EXISTS OLD_COMPANY\")\n",
        "\n",
        "conn.close()\n",
        "print(\"Table dropped successfully\")"
      ],
      "execution_count": null,
      "outputs": []
    },
    {
      "cell_type": "markdown",
      "metadata": {
        "id": "qXoJWkQ1WVna"
      },
      "source": [
        "**จากข้างต้น Table จะถูกลบแล้ว จะต้องทำการสร้างตารางขึ้นใหม่**\n",
        "# **AutoIncrement**\n",
        "ตัวอย่างการสร้าง table โดยให้ primary key เป็น autoincrement"
      ]
    },
    {
      "cell_type": "code",
      "metadata": {
        "id": "USaodm41VmVj"
      },
      "source": [
        "conn = sqlite3.connect('test.db')\n",
        "\n",
        "with conn:\n",
        "  conn.execute('''CREATE TABLE COMPANY\n",
        "        (ID INTEGER PRIMARY KEY AUTOINCREMENT,\n",
        "         NAME           TEXT    NOT NULL,\n",
        "         AGE            INT     NOT NULL,\n",
        "         ADDRESS        CHAR(50),\n",
        "         SALARY         REAL)''')\n",
        "\n",
        "conn.close()\n",
        "print(\"Table created successfully\")"
      ],
      "execution_count": null,
      "outputs": []
    },
    {
      "cell_type": "markdown",
      "metadata": {
        "id": "-B1HVo81W1Mo"
      },
      "source": [
        "**การเพิ่มข้อมูล โดยไม่ระบุ primary key**"
      ]
    },
    {
      "cell_type": "code",
      "metadata": {
        "id": "ISBUZnG_WxgN"
      },
      "source": [
        "conn = sqlite3.connect('test.db')\n",
        "\n",
        "with conn:\n",
        "  conn.execute(\"INSERT INTO COMPANY (NAME,AGE,ADDRESS,SALARY)\\\n",
        "             VALUES ('Paul', 32, 'California', 20000.00 )\")\n",
        "\n",
        "  conn.execute(\"INSERT INTO COMPANY (NAME,AGE,ADDRESS,SALARY)\\\n",
        "            VALUES ('Allen', 25, 'Texas', 15000.00 )\")\n",
        "\n",
        "  conn.execute(\"INSERT INTO COMPANY (NAME,AGE,ADDRESS,SALARY)\\\n",
        "            VALUES ('Teddy', 23, 'Norway', 20000.00 )\")\n",
        "\n",
        "  conn.execute(\"INSERT INTO COMPANY (NAME,AGE,ADDRESS,SALARY)\\\n",
        "            VALUES ('Mark', 25, 'Rich-Mond ', 65000.00 )\")\n",
        "\n",
        "  conn.execute(\"INSERT INTO COMPANY (NAME,AGE,ADDRESS,SALARY)\\\n",
        "            VALUES ('David', 27, 'Texas', 85000.00 )\")\n",
        "\n",
        "  conn.execute(\"INSERT INTO COMPANY (NAME,AGE,ADDRESS,SALARY)\\\n",
        "            VALUES ('Kim', 22, 'South-Hall', 45000.00 )\")\n",
        "\n",
        "  conn.execute(\"INSERT INTO COMPANY (NAME,AGE,ADDRESS,SALARY)\\\n",
        "            VALUES ('James', 24, 'Houston', 10000.00)\")\n",
        "\n",
        "  conn.execute(\"INSERT INTO COMPANY (NAME,AGE,ADDRESS,SALARY)\\\n",
        "            VALUES ('Paul', 24, 'Houston', 20000.00)\")\n",
        "\n",
        "  conn.execute(\"INSERT INTO COMPANY (NAME,AGE,ADDRESS,SALARY)\\\n",
        "            VALUES ('James', 44, 'Norway', 5000.00)\")\n",
        "  #conn.commit()\n",
        "\n",
        "print(\"Records created successfully\")"
      ],
      "execution_count": null,
      "outputs": []
    },
    {
      "cell_type": "markdown",
      "metadata": {
        "id": "Til56unAXPjG"
      },
      "source": [
        "# **SELECT Query (การค้นหาข้อมูล)**\n",
        "\n",
        "เริ่มจากการใช้ฟังก์ชันเพื่อแสดงข้อมูลจากการคิวรี่"
      ]
    },
    {
      "cell_type": "code",
      "metadata": {
        "id": "x5gl4iQyXZpg"
      },
      "source": [
        "conn = sqlite3.connect('test.db')\n",
        "\n",
        "#cursor = conn.execute(\"SELECT id, name, age, salary from COMPANY\")\n",
        "cursor = conn.execute(\"SELECT * from COMPANY\")\n",
        "#Select query field of table\n",
        "df = get_data(cursor)\n",
        "\n",
        "conn.close()\n",
        "print(\"Operation done successfully\")\n",
        "df"
      ],
      "execution_count": null,
      "outputs": []
    },
    {
      "cell_type": "markdown",
      "metadata": {
        "id": "9ROiZvCqX06k"
      },
      "source": [
        "**Where Clause**\n",
        "\n",
        "การใช้ operator AND"
      ]
    },
    {
      "cell_type": "code",
      "metadata": {
        "id": "eDkQ0Dk_XoRA"
      },
      "source": [
        "conn = sqlite3.connect('test.db')\n",
        "\n",
        "cursor = conn.execute(\"SELECT * FROM COMPANY WHERE AGE >= 25 AND SALARY >= 65000\")\n",
        "df = get_data(cursor)\n",
        "\n",
        "conn.close()\n",
        "print(\"Operation done successfully\")\n",
        "df"
      ],
      "execution_count": null,
      "outputs": []
    },
    {
      "cell_type": "markdown",
      "metadata": {
        "id": "AvBAvOQXYDzQ"
      },
      "source": [
        "การใช้ operator OR"
      ]
    },
    {
      "cell_type": "code",
      "metadata": {
        "id": "WAK2gpfQYHL4"
      },
      "source": [
        "conn = sqlite3.connect('test.db')\n",
        "\n",
        "cursor = conn.execute(\"SELECT * FROM COMPANY WHERE AGE >= 25 OR SALARY >= 65000\")\n",
        "df = get_data(cursor)\n",
        "\n",
        "conn.close()\n",
        "print(\"Operation done successfully\")\n",
        "df"
      ],
      "execution_count": null,
      "outputs": []
    },
    {
      "cell_type": "markdown",
      "metadata": {
        "id": "dIqNzdo_Yc2o"
      },
      "source": [
        "การใช้ IS NULL กับ IS NOT NULL"
      ]
    },
    {
      "cell_type": "code",
      "metadata": {
        "id": "JgrFMRvuYbnw"
      },
      "source": [
        "conn = sqlite3.connect('test.db')\n",
        "\n",
        "cursor = conn.execute(\"SELECT * FROM COMPANY WHERE SALARY IS NULL\")\n",
        "df = get_data(cursor)\n",
        "\n",
        "conn.close()\n",
        "print(\"Operation done successfully\")\n",
        "df"
      ],
      "execution_count": null,
      "outputs": []
    },
    {
      "cell_type": "code",
      "metadata": {
        "id": "Ey0I48PdYxF_"
      },
      "source": [
        "conn = sqlite3.connect('test.db')\n",
        "\n",
        "cursor = conn.execute(\"SELECT * FROM COMPANY WHERE AGE IS NOT NULL\")\n",
        "df = get_data(cursor)\n",
        "\n",
        "conn.close()\n",
        "print(\"Operation done successfully\")\n",
        "df"
      ],
      "execution_count": null,
      "outputs": []
    },
    {
      "cell_type": "markdown",
      "metadata": {
        "id": "RmQJiTQFY4CI"
      },
      "source": [
        "การใช้ LIKE"
      ]
    },
    {
      "cell_type": "code",
      "metadata": {
        "id": "cwYKoJ4NY60_"
      },
      "source": [
        "conn = sqlite3.connect('test.db')\n",
        "\n",
        "cursor = conn.execute(\"SELECT * FROM COMPANY WHERE age LIKE '2%'\")\n",
        "df = get_data(cursor)\n",
        "\n",
        "conn.close()\n",
        "print(\"Operation done successfully\")\n",
        "df"
      ],
      "execution_count": null,
      "outputs": []
    },
    {
      "cell_type": "code",
      "metadata": {
        "id": "xrHdeVs9ZAvv"
      },
      "source": [
        "conn = sqlite3.connect('test.db')\n",
        "\n",
        "cursor = conn.execute(\"SELECT * FROM COMPANY WHERE ADDRESS  LIKE '%-%'\")\n",
        "df = get_data(cursor)\n",
        "\n",
        "conn.close()\n",
        "print(\"Operation done successfully\")\n",
        "df"
      ],
      "execution_count": null,
      "outputs": []
    },
    {
      "cell_type": "markdown",
      "metadata": {
        "id": "Uc_YX-yYZDvH"
      },
      "source": [
        "การใช้ GLOB"
      ]
    },
    {
      "cell_type": "code",
      "metadata": {
        "id": "C2-AnbU3ZL24"
      },
      "source": [
        "conn = sqlite3.connect('test.db')\n",
        "\n",
        "cursor = conn.execute(\"SELECT * FROM COMPANY WHERE ADDRESS GLOB '*ou*'\")\n",
        "df = get_data(cursor)\n",
        "\n",
        "conn.close()\n",
        "print(\"Operation done successfully\")\n",
        "df"
      ],
      "execution_count": null,
      "outputs": []
    },
    {
      "cell_type": "markdown",
      "metadata": {
        "id": "AcYHg2twZZdv"
      },
      "source": [
        "การใช้ operator IN กับ NOT IN"
      ]
    },
    {
      "cell_type": "code",
      "metadata": {
        "id": "WF5dM-YhZfdv"
      },
      "source": [
        "conn = sqlite3.connect('test.db')\n",
        "\n",
        "cursor = conn.execute(\"SELECT * FROM COMPANY WHERE AGE IN ( 25, 27 )\")\n",
        "df = get_data(cursor)\n",
        "\n",
        "conn.close()\n",
        "print(\"Operation done successfully\")\n",
        "df"
      ],
      "execution_count": null,
      "outputs": []
    },
    {
      "cell_type": "code",
      "metadata": {
        "id": "MpAJgMNyZj8n"
      },
      "source": [
        "conn = sqlite3.connect('test.db')\n",
        "\n",
        "cursor = conn.execute(\"SELECT * FROM COMPANY WHERE AGE NOT IN ( 25, 27 )\")\n",
        "df = get_data(cursor)\n",
        "\n",
        "conn.close()\n",
        "print(\"Operation done successfully\")\n",
        "df"
      ],
      "execution_count": null,
      "outputs": []
    },
    {
      "cell_type": "markdown",
      "metadata": {
        "id": "dhHWqA1iZmpn"
      },
      "source": [
        "การใช้ operator BETWEEN"
      ]
    },
    {
      "cell_type": "code",
      "metadata": {
        "id": "ykSMUu1eZrj5"
      },
      "source": [
        "conn = sqlite3.connect('test.db')\n",
        "\n",
        "cursor = conn.execute(\"SELECT * FROM COMPANY WHERE AGE BETWEEN 25 AND 27\")\n",
        "df = get_data(cursor)\n",
        "\n",
        "conn.close()\n",
        "print(\"Operation done successfully\")\n",
        "df"
      ],
      "execution_count": null,
      "outputs": []
    },
    {
      "cell_type": "markdown",
      "metadata": {
        "id": "nGnQIk1PZvnX"
      },
      "source": [
        "การใช้ประโยค sub-query"
      ]
    },
    {
      "cell_type": "code",
      "metadata": {
        "id": "el7uwZbJZyTi"
      },
      "source": [
        "conn = sqlite3.connect('test.db')\n",
        "\n",
        "cursor = conn.execute(\"SELECT * FROM COMPANY \\\n",
        "   WHERE AGE > (SELECT AGE FROM COMPANY WHERE SALARY > 65000)\")\n",
        "df = get_data(cursor)\n",
        "\n",
        "conn.close()\n",
        "print(\"Operation done successfully\")\n",
        "df"
      ],
      "execution_count": null,
      "outputs": []
    },
    {
      "cell_type": "markdown",
      "metadata": {
        "id": "5pO9e8HIcEvG"
      },
      "source": [
        "# **คำสั่ง DISTINCT**\n",
        "\n",
        "ก่อนใช้ distinct"
      ]
    },
    {
      "cell_type": "code",
      "metadata": {
        "id": "StZm7b7mcVsS"
      },
      "source": [
        "conn = sqlite3.connect('test.db')\n",
        "\n",
        "cursor = conn.execute(\"SELECT id, name, age, address, salary from COMPANY\")\n",
        "#Select query field of table\n",
        "df = get_data(cursor)\n",
        "\n",
        "conn.close()\n",
        "print(\"Operation done successfully\")\n",
        "df"
      ],
      "execution_count": null,
      "outputs": []
    },
    {
      "cell_type": "markdown",
      "metadata": {
        "id": "PqRVeViscejd"
      },
      "source": [
        "หลังใช้ DISTINCT"
      ]
    },
    {
      "cell_type": "code",
      "metadata": {
        "id": "4FYPdXqZchdd"
      },
      "source": [
        "conn = sqlite3.connect('test.db')\n",
        "\n",
        "cursor = conn.execute(\"SELECT DISTINCT name FROM COMPANY\")\n",
        "df = get_data(cursor)\n",
        "\n",
        "conn.close()\n",
        "print(\"Operation done successfully\")\n",
        "df"
      ],
      "execution_count": null,
      "outputs": []
    },
    {
      "cell_type": "markdown",
      "metadata": {
        "id": "iuhw4kRzcqV-"
      },
      "source": [
        "# **การใช้ LIMIT**"
      ]
    },
    {
      "cell_type": "code",
      "metadata": {
        "id": "J9GkCQgWcyFX"
      },
      "source": [
        "conn = sqlite3.connect('test.db')\n",
        "\n",
        "cursor = conn.execute(\"SELECT * FROM COMPANY LIMIT 6\")\n",
        "df = get_data(cursor)\n",
        "\n",
        "conn.close()\n",
        "print(\"Operation done successfully\")\n",
        "df"
      ],
      "execution_count": null,
      "outputs": []
    },
    {
      "cell_type": "markdown",
      "metadata": {
        "id": "1TcDxFFcc2P-"
      },
      "source": [
        "# **การใช้ OFFSET ร่วมกับ LIMIT**"
      ]
    },
    {
      "cell_type": "code",
      "metadata": {
        "id": "DNJHiH09c6rN"
      },
      "source": [
        "conn = sqlite3.connect('test.db')\n",
        "\n",
        "cursor = conn.execute(\"SELECT * FROM COMPANY LIMIT 3 OFFSET 2\")\n",
        "df = get_data(cursor)\n",
        "\n",
        "conn.close()\n",
        "print(\"Operation done successfully\")\n",
        "df"
      ],
      "execution_count": null,
      "outputs": []
    },
    {
      "cell_type": "markdown",
      "metadata": {
        "id": "yfWbJJZodFPd"
      },
      "source": [
        "# **UPDATE QUERY**"
      ]
    },
    {
      "cell_type": "code",
      "metadata": {
        "id": "Zm9gqpL9dEwt"
      },
      "source": [
        "conn = sqlite3.connect('test.db')\n",
        "\n",
        "with conn:\n",
        "  conn.execute(\"UPDATE COMPANY set SALARY = 25000.00 where ID = 1\")\n",
        "  print(\"Total number of rows updated :\", conn.total_changes)\n",
        "\n",
        "conn.close()\n",
        "print(\"Operation done successfully\");"
      ],
      "execution_count": null,
      "outputs": []
    },
    {
      "cell_type": "code",
      "metadata": {
        "id": "ylfjCJgrdTkV"
      },
      "source": [
        "conn = sqlite3.connect('test.db')\n",
        "\n",
        "cursor = conn.execute(\"SELECT id, name, address, salary from COMPANY\")\n",
        "#Select query field of table\n",
        "df = get_data(cursor)\n",
        "\n",
        "conn.close()\n",
        "print(\"Operation done successfully\")\n",
        "df"
      ],
      "execution_count": null,
      "outputs": []
    },
    {
      "cell_type": "markdown",
      "metadata": {
        "id": "nh-aOiSFdcWm"
      },
      "source": [
        "# **Delete Query**"
      ]
    },
    {
      "cell_type": "code",
      "metadata": {
        "id": "fxhwsAV4dgI4"
      },
      "source": [
        "conn = sqlite3.connect('test.db')\n",
        "\n",
        "with conn:\n",
        "  conn.execute(\"DELETE from COMPANY where ID = 2\")\n",
        "  #ลบ record ที่มี id = 2\n",
        "  print(\"Total number of rows deleted :\", conn.total_changes)\n",
        "\n",
        "cursor = conn.execute(\"SELECT id, name, address, salary from COMPANY\")\n",
        "df = get_data(cursor)\n",
        "\n",
        "conn.close()\n",
        "print(\"Operation done successfully\");\n",
        "df"
      ],
      "execution_count": null,
      "outputs": []
    },
    {
      "cell_type": "markdown",
      "metadata": {
        "id": "1XnKQn9qd4wt"
      },
      "source": [
        "# **Commit กับ Rollback**\n",
        "\n",
        "**ตัวอย่าง commit()**"
      ]
    },
    {
      "cell_type": "code",
      "metadata": {
        "id": "y4IOSLsFd8bF"
      },
      "source": [
        "conn = sqlite3.connect('test.db')\n",
        "\n",
        "conn.execute(\"INSERT INTO COMPANY (NAME,AGE,ADDRESS,SALARY)\\\n",
        "            VALUES ('Manee', 35, 'Thailand', 45000.00)\")\n",
        "conn.commit()\n",
        "\n",
        "#cursor = conn.execute(\"SELECT id, name, age, address, salary from COMPANY\")\n",
        "#df = get_data(cursor)\n",
        "\n",
        "conn.close()\n",
        "print(\"Operation done successfully\");\n",
        "#df"
      ],
      "execution_count": null,
      "outputs": []
    },
    {
      "cell_type": "markdown",
      "metadata": {
        "id": "hAwd_sX1eKs8"
      },
      "source": [
        "**ตัวอย่าง rollback()**"
      ]
    },
    {
      "cell_type": "code",
      "metadata": {
        "id": "mbui0wcTeQo1"
      },
      "source": [
        "conn = sqlite3.connect('test.db')\n",
        "\n",
        "conn.execute(\"INSERT INTO COMPANY (NAME,AGE,ADDRESS,SALARY)\\\n",
        "            VALUES ('Mana', 15, 'Thailand', 15000.00)\")\n",
        "conn.rollback()\n",
        "\n",
        "#cursor = conn.execute(\"SELECT id, name, age, address, salary from COMPANY\")\n",
        "#df = get_data(cursor)\n",
        "\n",
        "conn.close()\n",
        "print(\"Operation done successfully\");\n",
        "#df"
      ],
      "execution_count": null,
      "outputs": []
    },
    {
      "cell_type": "markdown",
      "metadata": {
        "id": "DFhnY2SzkbSP"
      },
      "source": [
        "# **เมื่อใช้ประโยค with**\n",
        "* เมธอด commit()จะถูกเรียกอัตโนมัติหลังจากบล็อกทำงานเสร็จ\n",
        "*เมธอด rollback() จะถูกเรียกอัตโนมัติเมื่อเกิด exception\n",
        "\n"
      ]
    },
    {
      "cell_type": "code",
      "metadata": {
        "id": "3g5AjU5jgeLe"
      },
      "source": [
        "conn = sqlite3.connect('test.db')\n",
        "\n",
        "# Successful, con.commit() is called automatically afterwards\n",
        "with conn:\n",
        "    conn.execute(\"DELETE FROM COMPANY WHERE AGE = 35\")\n",
        "    print(\"Total number of rows deleted :\", conn.total_changes)\n",
        "\n",
        "# con.rollback() is called after the with block finishes with an exception, the\n",
        "# exception is still raised and must be caught\n",
        "try:\n",
        "    with conn:\n",
        "        conn.execute(\"DELETE FROM COMPANY WHERE AGE = 35\")\n",
        "except sqlite3.IntegrityError:\n",
        "    print (\"couldn't delete twice\")\n",
        "\n",
        "conn.close()"
      ],
      "execution_count": null,
      "outputs": []
    },
    {
      "cell_type": "code",
      "metadata": {
        "id": "2L1aCxFEg7ts"
      },
      "source": [
        "conn = sqlite3.connect('test.db')\n",
        "cursor = conn.execute(\"SELECT id, name, age, address, salary from COMPANY\")\n",
        "df = get_data(cursor)\n",
        "\n",
        "conn.close()\n",
        "print(\"Operation done successfully\");\n",
        "df"
      ],
      "execution_count": null,
      "outputs": []
    },
    {
      "cell_type": "markdown",
      "metadata": {
        "id": "BdZ8h667kyVb"
      },
      "source": [
        "# **ประโยค ORDER BY**\n",
        "ใช้ ASC : Ascending น้อยไปมาก"
      ]
    },
    {
      "cell_type": "code",
      "metadata": {
        "id": "sWhhJZoxk_4v"
      },
      "source": [
        "conn = sqlite3.connect('test.db')\n",
        "\n",
        "cursor = conn.execute(\"SELECT * FROM COMPANY ORDER BY SALARY ASC\")\n",
        "df = get_data(cursor)\n",
        "\n",
        "conn.close()\n",
        "print(\"Operation done successfully\")\n",
        "df"
      ],
      "execution_count": null,
      "outputs": []
    },
    {
      "cell_type": "code",
      "metadata": {
        "id": "Emf85p45lLNV"
      },
      "source": [
        "conn = sqlite3.connect('test.db')\n",
        "\n",
        "cursor = conn.execute(\"SELECT * FROM COMPANY ORDER BY NAME, SALARY ASC\")\n",
        "df = get_data(cursor)\n",
        "\n",
        "conn.close()\n",
        "print(\"Operation done successfully\")\n",
        "df"
      ],
      "execution_count": null,
      "outputs": []
    },
    {
      "cell_type": "markdown",
      "metadata": {
        "id": "aI0dJzZglNkC"
      },
      "source": [
        "ใช้ DESC : Descanding มากไปน้อย"
      ]
    },
    {
      "cell_type": "code",
      "metadata": {
        "id": "lLFApGTClU9i"
      },
      "source": [
        "conn = sqlite3.connect('test.db')\n",
        "\n",
        "cursor = conn.execute(\"SELECT * FROM COMPANY ORDER BY NAME DESC\")\n",
        "df = get_data(cursor)\n",
        "\n",
        "conn.close()\n",
        "print(\"Operation done successfully\")\n",
        "df"
      ],
      "execution_count": null,
      "outputs": []
    },
    {
      "cell_type": "markdown",
      "metadata": {
        "id": "HWJv_8pWlZAy"
      },
      "source": [
        "# **Group by**"
      ]
    },
    {
      "cell_type": "code",
      "metadata": {
        "id": "HuWPPam0liiy"
      },
      "source": [
        "conn = sqlite3.connect('test.db')\n",
        "\n",
        "cursor = conn.execute(\"SELECT NAME, SUM(SALARY) FROM COMPANY GROUP BY NAME\")\n",
        "df = get_data(cursor)\n",
        "\n",
        "conn.close()\n",
        "print(\"Operation done successfully\")\n",
        "df"
      ],
      "execution_count": null,
      "outputs": []
    },
    {
      "cell_type": "markdown",
      "metadata": {
        "id": "sIUR8ADTlnCq"
      },
      "source": [
        "**group by ร่วมกับ order by**"
      ]
    },
    {
      "cell_type": "code",
      "metadata": {
        "id": "k5DWI-d-lmIK"
      },
      "source": [
        "conn = sqlite3.connect('test.db')\n",
        "\n",
        "cursor = conn.execute(\"SELECT NAME, SUM(SALARY) FROM COMPANY GROUP BY NAME ORDER BY NAME\")\n",
        "df = get_data(cursor)\n",
        "\n",
        "conn.close()\n",
        "print(\"Operation done successfully\")\n",
        "df"
      ],
      "execution_count": null,
      "outputs": []
    },
    {
      "cell_type": "markdown",
      "metadata": {
        "id": "gGmj4SSg1-pD"
      },
      "source": [
        "# **การใช้ having กับ count**"
      ]
    },
    {
      "cell_type": "code",
      "metadata": {
        "id": "RxDpjBJZ2KJz"
      },
      "source": [
        "conn = sqlite3.connect('test.db')\n",
        "\n",
        "cursor = conn.execute(\"SELECT * FROM COMPANY GROUP BY name HAVING count(name) < 2\")\n",
        "df = get_data(cursor)\n",
        "\n",
        "conn.close()\n",
        "print(\"Operation done successfully\")\n",
        "df"
      ],
      "execution_count": null,
      "outputs": []
    },
    {
      "cell_type": "code",
      "metadata": {
        "id": "bQlBl_fG2P67"
      },
      "source": [
        "conn = sqlite3.connect('test.db')\n",
        "\n",
        "cursor = conn.execute(\"SELECT * FROM COMPANY GROUP BY name HAVING count(name) >= 2\")\n",
        "df = get_data(cursor)\n",
        "\n",
        "conn.close()\n",
        "print(\"Operation done successfully\")\n",
        "df"
      ],
      "execution_count": null,
      "outputs": []
    },
    {
      "cell_type": "markdown",
      "metadata": {
        "id": "OIXdWDHj2VS6"
      },
      "source": [
        "# **JOIN**\n",
        "\n",
        "ใช้กับ 2 ตารางขึ้นไป"
      ]
    },
    {
      "cell_type": "markdown",
      "metadata": {
        "id": "ym5uor712yrq"
      },
      "source": [
        "สร้าง Table ใหม่ ชื่่อ department"
      ]
    },
    {
      "cell_type": "code",
      "metadata": {
        "id": "NJvOuFeA2bGj"
      },
      "source": [
        "conn = sqlite3.connect('test.db')\n",
        "\n",
        "with conn:\n",
        "  conn.execute('''CREATE TABLE DEPARTMENT(\n",
        "   ID INT PRIMARY KEY      NOT NULL,\n",
        "   DEPT           CHAR(50) NOT NULL,\n",
        "   EMP_ID         INT      NOT NULL\n",
        "  );''')\n",
        "\n",
        "conn.close()\n",
        "print(\"Table created successfully\")"
      ],
      "execution_count": null,
      "outputs": []
    },
    {
      "cell_type": "code",
      "metadata": {
        "id": "RuiTLw8X27Df"
      },
      "source": [
        "conn = sqlite3.connect('test.db')\n",
        "\n",
        "with conn:\n",
        "  conn.execute(\"INSERT INTO DEPARTMENT (ID, DEPT, EMP_ID) \\\n",
        "  VALUES (1, 'IT Billing', 1 )\")\n",
        "\n",
        "  conn.execute(\"INSERT INTO DEPARTMENT (ID, DEPT, EMP_ID) \\\n",
        "  VALUES (2, 'Engineering', 2 )\")\n",
        "\n",
        "  conn.execute(\"INSERT INTO DEPARTMENT (ID, DEPT, EMP_ID) \\\n",
        "  VALUES (3, 'Finance', 7 )\")\n",
        "\n",
        "conn.close()\n",
        "print(\"Records created successfully\")"
      ],
      "execution_count": null,
      "outputs": []
    },
    {
      "cell_type": "code",
      "metadata": {
        "id": "I5JUg0Km2_mS"
      },
      "source": [
        "conn = sqlite3.connect('test.db')\n",
        "\n",
        "cursor = conn.execute(\"SELECT id, DEPT, EMP_ID from DEPARTMENT\")\n",
        "df = get_data(cursor)\n",
        "\n",
        "conn.close()\n",
        "print(\"Operation done successfully\")\n",
        "df"
      ],
      "execution_count": null,
      "outputs": []
    },
    {
      "cell_type": "markdown",
      "metadata": {
        "id": "rpVHqmzB3CzC"
      },
      "source": [
        "# **Cross Join**"
      ]
    },
    {
      "cell_type": "code",
      "metadata": {
        "id": "zRFuodnb3HLJ"
      },
      "source": [
        "conn = sqlite3.connect('test.db')\n",
        "\n",
        "cursor = conn.execute(\"SELECT EMP_ID, NAME, DEPT FROM COMPANY CROSS JOIN DEPARTMENT\")\n",
        "df = get_data(cursor)\n",
        "\n",
        "print(\"Operation done successfully\")\n",
        "conn.close()\n",
        "df"
      ],
      "execution_count": null,
      "outputs": []
    },
    {
      "cell_type": "markdown",
      "metadata": {
        "id": "oUPBM34n3QzU"
      },
      "source": [
        "# **Inner Join**"
      ]
    },
    {
      "cell_type": "code",
      "metadata": {
        "id": "mCQ_kBy83Osh"
      },
      "source": [
        "conn = sqlite3.connect('test.db')\n",
        "\n",
        "cursor = conn.execute(\"SELECT EMP_ID, NAME, DEPT FROM COMPANY INNER JOIN DEPARTMENT \\\n",
        "   ON COMPANY.ID = DEPARTMENT.EMP_ID\")\n",
        "df = get_data(cursor)\n",
        "\n",
        "conn.close()\n",
        "print(\"Operation done successfully\")\n",
        "df"
      ],
      "execution_count": null,
      "outputs": []
    },
    {
      "cell_type": "markdown",
      "metadata": {
        "id": "Vg0K3NKB3a9i"
      },
      "source": [
        "# **Outer Join**"
      ]
    },
    {
      "cell_type": "code",
      "metadata": {
        "id": "475zQauB3c6j"
      },
      "source": [
        "conn = sqlite3.connect('test.db')\n",
        "\n",
        "cursor = conn.execute(\"SELECT EMP_ID, NAME, DEPT FROM COMPANY LEFT OUTER JOIN DEPARTMENT \\\n",
        "   ON COMPANY.ID = DEPARTMENT.EMP_ID\")\n",
        "df = get_data(cursor)\n",
        "\n",
        "conn.close()\n",
        "print(\"Operation done successfully\")\n",
        "df"
      ],
      "execution_count": null,
      "outputs": []
    },
    {
      "cell_type": "markdown",
      "metadata": {
        "id": "f9c7gVzA3iKT"
      },
      "source": [
        "# **UNION**"
      ]
    },
    {
      "cell_type": "markdown",
      "metadata": {
        "id": "xByU1msn3oPp"
      },
      "source": [
        "ข้อมูลจาก table **company**"
      ]
    },
    {
      "cell_type": "code",
      "metadata": {
        "id": "fVPEOOYQ3mf7"
      },
      "source": [
        "conn = sqlite3.connect('test.db')\n",
        "\n",
        "cursor = conn.execute(\"select * from COMPANY\")\n",
        "df = get_data(cursor)\n",
        "\n",
        "conn.close()\n",
        "print(\"Operation done successfully\")\n",
        "df"
      ],
      "execution_count": null,
      "outputs": []
    },
    {
      "cell_type": "markdown",
      "metadata": {
        "id": "qFFOd43-3vrd"
      },
      "source": [
        "ข้อมูลจาก table **department**"
      ]
    },
    {
      "cell_type": "code",
      "metadata": {
        "id": "j-hYfK5q30Me"
      },
      "source": [
        "conn = sqlite3.connect('test.db')\n",
        "\n",
        "cursor = conn.execute(\"select * from DEPARTMENT\")\n",
        "df = get_data(cursor)\n",
        "\n",
        "conn.close()\n",
        "print(\"Operation done successfully\")\n",
        "df"
      ],
      "execution_count": null,
      "outputs": []
    },
    {
      "cell_type": "markdown",
      "metadata": {
        "id": "86UjsSfn33NC"
      },
      "source": [
        "# **ใช้ UNION**"
      ]
    },
    {
      "cell_type": "code",
      "metadata": {
        "id": "122uHVtG3-MC"
      },
      "source": [
        "conn = sqlite3.connect('test.db')\n",
        "\n",
        "cursor = conn.execute('''SELECT EMP_ID, NAME, DEPT FROM COMPANY INNER JOIN DEPARTMENT\n",
        "         ON COMPANY.ID = DEPARTMENT.EMP_ID\n",
        "\n",
        "         UNION\n",
        "\n",
        "         SELECT EMP_ID, NAME, DEPT FROM COMPANY LEFT OUTER JOIN DEPARTMENT\n",
        "         ON COMPANY.ID = DEPARTMENT.EMP_ID''')\n",
        "\n",
        "df = get_data(cursor)\n",
        "\n",
        "conn.close()\n",
        "print(\"Operation done successfully\")\n",
        "df"
      ],
      "execution_count": null,
      "outputs": []
    },
    {
      "cell_type": "markdown",
      "metadata": {
        "id": "jtp6kH4y4CJ8"
      },
      "source": [
        "# **ใช้ UNION ALL**"
      ]
    },
    {
      "cell_type": "code",
      "metadata": {
        "id": "2PlIUL5D4FT8"
      },
      "source": [
        "conn = sqlite3.connect('test.db')\n",
        "\n",
        "cursor = conn.execute('''SELECT EMP_ID, NAME, DEPT FROM COMPANY INNER JOIN DEPARTMENT\n",
        "         ON COMPANY.ID = DEPARTMENT.EMP_ID\n",
        "\n",
        "         UNION ALL\n",
        "\n",
        "         SELECT EMP_ID, NAME, DEPT FROM COMPANY LEFT OUTER JOIN DEPARTMENT\n",
        "         ON COMPANY.ID = DEPARTMENT.EMP_ID;''')\n",
        "\n",
        "df = get_data(cursor)\n",
        "\n",
        "conn.close()\n",
        "print(\"Operation done successfully\")\n",
        "df"
      ],
      "execution_count": null,
      "outputs": []
    },
    {
      "cell_type": "markdown",
      "metadata": {
        "id": "mEVzaNkS4NK6"
      },
      "source": [
        "# ใช้ ALIAS ตั้งชื่ออ้างอิง Table หรือคอลัมน์ใหม่"
      ]
    },
    {
      "cell_type": "markdown",
      "metadata": {
        "id": "1rTZU4K-4chZ"
      },
      "source": [
        "**อ้างอิง table**"
      ]
    },
    {
      "cell_type": "code",
      "metadata": {
        "id": "Podl67dD4XQa"
      },
      "source": [
        "conn = sqlite3.connect('test.db')\n",
        "\n",
        "cursor = conn.execute('''SELECT C.ID, C.NAME, C.AGE, D.DEPT\n",
        "                FROM COMPANY AS C, DEPARTMENT AS D\n",
        "                WHERE  C.ID = D.EMP_ID''')\n",
        "df = get_data(cursor)\n",
        "\n",
        "conn.close()\n",
        "print(\"Operation done successfully\")\n",
        "df"
      ],
      "execution_count": null,
      "outputs": []
    },
    {
      "cell_type": "markdown",
      "metadata": {
        "id": "hqCvMdof4frp"
      },
      "source": [
        "**อ้างอิงคอลัมน์**"
      ]
    },
    {
      "cell_type": "code",
      "metadata": {
        "id": "wk_V6cgl4iiL"
      },
      "source": [
        "conn = sqlite3.connect('test.db')\n",
        "\n",
        "cursor = conn.execute('''SELECT C.ID AS COMPANY_ID, C.NAME AS COMPANY_NAME, C.AGE, D.DEPT\n",
        "                          FROM COMPANY AS C, DEPARTMENT AS D\n",
        "                          WHERE  C.ID = D.EMP_ID''')\n",
        "df = get_data(cursor)\n",
        "\n",
        "conn.close()\n",
        "print(\"Operation done successfully\")\n",
        "df"
      ],
      "execution_count": null,
      "outputs": []
    },
    {
      "cell_type": "markdown",
      "metadata": {
        "id": "18rZHijm4ov5"
      },
      "source": [
        "# **การจัดดำเนินการกับคิวรี่ย่อย**"
      ]
    },
    {
      "cell_type": "markdown",
      "metadata": {
        "id": "3Er_TGeV4vjx"
      },
      "source": [
        "## **SELECT**"
      ]
    },
    {
      "cell_type": "code",
      "metadata": {
        "id": "iR3hyRMN4t6x"
      },
      "source": [
        "conn = sqlite3.connect('test.db')\n",
        "\n",
        "cursor = conn.execute('''SELECT *\n",
        "   FROM COMPANY\n",
        "   WHERE ID IN (SELECT ID\n",
        "      FROM COMPANY\n",
        "      WHERE SALARY > 45000)''')\n",
        "df = get_data(cursor)\n",
        "\n",
        "conn.close()\n",
        "print(\"Operation done successfully\")\n",
        "df"
      ],
      "execution_count": null,
      "outputs": []
    },
    {
      "cell_type": "markdown",
      "metadata": {
        "id": "Vthj-aie4-p6"
      },
      "source": [
        "## **INSERT**"
      ]
    },
    {
      "cell_type": "markdown",
      "metadata": {
        "id": "x1KErqT_5Gsh"
      },
      "source": [
        "สร้าง table ชื่อ COMPANY_BKP"
      ]
    },
    {
      "cell_type": "code",
      "metadata": {
        "id": "yUHGDc2d5CFR"
      },
      "source": [
        "conn = sqlite3.connect('test.db')\n",
        "\n",
        "with conn:\n",
        "  conn.execute('''CREATE TABLE COMPANY_BKP\n",
        "         (ID INT PRIMARY KEY     NOT NULL,\n",
        "         NAME           TEXT    NOT NULL,\n",
        "         AGE            INT     NOT NULL,\n",
        "         ADDRESS        CHAR(50),\n",
        "         SALARY         REAL)''')\n",
        "\n",
        "conn.close()\n",
        "print(\"Table created successfully\")"
      ],
      "execution_count": null,
      "outputs": []
    },
    {
      "cell_type": "code",
      "metadata": {
        "id": "h4WQ7j825L3p"
      },
      "source": [
        "conn = sqlite3.connect('test.db')\n",
        "\n",
        "with conn:\n",
        "  cursor = conn.execute('''INSERT INTO COMPANY_BKP\n",
        "   SELECT * FROM COMPANY\n",
        "   WHERE ID IN (SELECT ID\n",
        "      FROM COMPANY)''')\n",
        "\n",
        "conn.close()\n",
        "print(\"Records created successfully\")"
      ],
      "execution_count": null,
      "outputs": []
    },
    {
      "cell_type": "code",
      "metadata": {
        "id": "KaoJ01w65Oth"
      },
      "source": [
        "conn = sqlite3.connect('test.db')\n",
        "\n",
        "cursor = conn.execute(\"SELECT * FROM COMPANY_BKP\")\n",
        "df = get_data(cursor)\n",
        "\n",
        "conn.close()\n",
        "print(\"Operation done successfully\")\n",
        "df"
      ],
      "execution_count": null,
      "outputs": []
    },
    {
      "cell_type": "markdown",
      "metadata": {
        "id": "UuH6ab0t5SNi"
      },
      "source": [
        "## **UPDATE**"
      ]
    },
    {
      "cell_type": "code",
      "metadata": {
        "id": "AtgTgvLx5Xex"
      },
      "source": [
        "conn = sqlite3.connect('test.db')\n",
        "\n",
        "with conn:\n",
        "  cursor = conn.execute('''UPDATE COMPANY\n",
        "   SET SALARY = SALARY * 0.50\n",
        "   WHERE AGE IN (SELECT AGE FROM COMPANY_BKP\n",
        "      WHERE AGE >= 27 )''')\n",
        "\n",
        "conn.close()\n",
        "print(\"Records created successfully\")"
      ],
      "execution_count": null,
      "outputs": []
    },
    {
      "cell_type": "code",
      "metadata": {
        "id": "Cn8rIYEV5b8B"
      },
      "source": [
        "conn = sqlite3.connect('test.db')\n",
        "\n",
        "cursor = conn.execute(\"SELECT * FROM COMPANY_BKP\")\n",
        "df = get_data(cursor)\n",
        "\n",
        "conn.close()\n",
        "print(\"Operation done successfully\")\n",
        "df"
      ],
      "execution_count": null,
      "outputs": []
    },
    {
      "cell_type": "code",
      "metadata": {
        "id": "J4wE22G9GXyR"
      },
      "source": [
        "conn = sqlite3.connect('test.db')\n",
        "\n",
        "cursor = conn.execute(\"SELECT * FROM COMPANY\")\n",
        "df = get_data(cursor)\n",
        "\n",
        "conn.close()\n",
        "print(\"Operation done successfully\")\n",
        "df"
      ],
      "execution_count": null,
      "outputs": []
    },
    {
      "cell_type": "markdown",
      "metadata": {
        "id": "vCsV7HpY5fbg"
      },
      "source": [
        "## **DELETE**"
      ]
    },
    {
      "cell_type": "code",
      "metadata": {
        "id": "vxbVtiO55h5x"
      },
      "source": [
        "conn = sqlite3.connect('test.db')\n",
        "\n",
        "with conn:\n",
        "  cursor = conn.execute('''DELETE FROM COMPANY\n",
        "   WHERE AGE IN (SELECT AGE FROM COMPANY_BKP\n",
        "   WHERE AGE > 27 )''')\n",
        "\n",
        "cursor = conn.execute(\"SELECT * FROM COMPANY\")\n",
        "df = get_data(cursor)\n",
        "conn.close()\n",
        "print(\"Records created successfully\")\n",
        "df"
      ],
      "execution_count": null,
      "outputs": []
    },
    {
      "cell_type": "code",
      "metadata": {
        "id": "u8pEIHHLGtH7"
      },
      "source": [
        "conn = sqlite3.connect('test.db')\n",
        "\n",
        "cursor = conn.execute(\"SELECT * FROM COMPANY\")\n",
        "df = get_data(cursor)\n",
        "\n",
        "conn.close()\n",
        "print(\"Operation done successfully\")\n",
        "df"
      ],
      "execution_count": null,
      "outputs": []
    },
    {
      "cell_type": "markdown",
      "metadata": {
        "id": "DrlYes-_5sw6"
      },
      "source": [
        "# **การสร้าง INDEX**"
      ]
    },
    {
      "cell_type": "code",
      "metadata": {
        "id": "xNgfDyjt5wMB"
      },
      "source": [
        "conn = sqlite3.connect('test.db')\n",
        "\n",
        "with conn:\n",
        "  cursor = conn.execute(\"CREATE INDEX salary_index ON COMPANY (salary)\")\n",
        "\n",
        "conn.close()\n",
        "print(\"Operation done successfully\")"
      ],
      "execution_count": null,
      "outputs": []
    },
    {
      "cell_type": "markdown",
      "metadata": {
        "id": "SdZnkXbn5ziR"
      },
      "source": [
        "**Seach by index**"
      ]
    },
    {
      "cell_type": "code",
      "metadata": {
        "id": "OXC0AVxT53Kx"
      },
      "source": [
        "conn = sqlite3.connect('test.db')\n",
        "\n",
        "cursor = conn.execute(\"SELECT * FROM sqlite_master WHERE type = 'index'\")\n",
        "df = get_data(cursor)\n",
        "\n",
        "conn.close()\n",
        "print(\"Operation done successfully\")\n",
        "df"
      ],
      "execution_count": null,
      "outputs": []
    },
    {
      "cell_type": "markdown",
      "metadata": {
        "id": "y0bI87zk56nc"
      },
      "source": [
        "**Select ร่วมกับ index**"
      ]
    },
    {
      "cell_type": "code",
      "metadata": {
        "id": "Nx4OOL686AOx"
      },
      "source": [
        "conn = sqlite3.connect('test.db')\n",
        "\n",
        "cursor = conn.execute(\"SELECT * FROM COMPANY INDEXED BY salary_index \\\n",
        "                       WHERE salary > 5000\")\n",
        "df = get_data(cursor)\n",
        "\n",
        "conn.close()\n",
        "print(\"Operation done successfully\")\n",
        "df"
      ],
      "execution_count": null,
      "outputs": []
    },
    {
      "cell_type": "markdown",
      "metadata": {
        "id": "tpNfAAiS6Dr5"
      },
      "source": [
        "**ลบ index**"
      ]
    },
    {
      "cell_type": "code",
      "metadata": {
        "id": "xKv4yD1a6GKR"
      },
      "source": [
        "conn = sqlite3.connect('test.db')\n",
        "\n",
        "with conn:\n",
        "  cursor = conn.execute(\"DROP INDEX salary_index\")\n",
        "\n",
        "conn.close()\n",
        "print(\"Operation done successfully\")"
      ],
      "execution_count": null,
      "outputs": []
    },
    {
      "cell_type": "markdown",
      "metadata": {
        "id": "9_gNI6Nw6I1J"
      },
      "source": [
        "# **Views**"
      ]
    },
    {
      "cell_type": "markdown",
      "metadata": {
        "id": "r7TsspT36MCR"
      },
      "source": [
        "## การสร้าง View"
      ]
    },
    {
      "cell_type": "code",
      "metadata": {
        "id": "06scUl1d6Kic"
      },
      "source": [
        "conn = sqlite3.connect('test.db')\n",
        "\n",
        "with conn:\n",
        "  conn.execute('''CREATE VIEW COMPANY_VIEW AS\n",
        "                SELECT ID, NAME, AGE\n",
        "                FROM  COMPANY;''')\n",
        "\n",
        "conn.close()\n",
        "print(\"View created successfully\")"
      ],
      "execution_count": null,
      "outputs": []
    },
    {
      "cell_type": "markdown",
      "metadata": {
        "id": "AtQrWX0U6WPJ"
      },
      "source": [
        "# การแสดง View"
      ]
    },
    {
      "cell_type": "code",
      "metadata": {
        "id": "IGkamhIO6bn5"
      },
      "source": [
        "conn = sqlite3.connect('test.db')\n",
        "\n",
        "cursor = conn.execute(\"SELECT * FROM COMPANY_VIEW\")\n",
        "df = get_data(cursor)\n",
        "\n",
        "conn.close()\n",
        "print(\"Operation done successfully\")\n",
        "df"
      ],
      "execution_count": null,
      "outputs": []
    },
    {
      "cell_type": "markdown",
      "metadata": {
        "id": "RiYt7PHU6e_0"
      },
      "source": [
        "# การลบ View"
      ]
    },
    {
      "cell_type": "code",
      "metadata": {
        "id": "QYmoGELX6ibp"
      },
      "source": [
        "conn = sqlite3.connect('test.db')\n",
        "\n",
        "with conn:\n",
        "  cursor = conn.execute(\"DROP VIEW COMPANY_VIEW\")\n",
        "\n",
        "conn.close()\n",
        "print(\"Operation done successfully\")"
      ],
      "execution_count": null,
      "outputs": []
    },
    {
      "cell_type": "markdown",
      "metadata": {
        "id": "ur2iaP7t6pYz"
      },
      "source": [
        "# **ฟังก์ชัน (รองรับ SQLite)**\n",
        "\n",
        "ฟังก์ชัน count นับจำนวนแถวของ Table"
      ]
    },
    {
      "cell_type": "code",
      "metadata": {
        "id": "IfKOnEF564zy"
      },
      "source": [
        "conn = sqlite3.connect('test.db')\n",
        "\n",
        "cursor = conn.execute(\"SELECT count(*) FROM COMPANY\")\n",
        "df = get_data(cursor)\n",
        "\n",
        "conn.close()\n",
        "print(\"Operation done successfully\")\n",
        "df"
      ],
      "execution_count": null,
      "outputs": []
    },
    {
      "cell_type": "markdown",
      "metadata": {
        "id": "x97m-kfQ67kB"
      },
      "source": [
        "ฟังก์ชัน max ให้ค่ามากสุดของคอลัมน์นั้น"
      ]
    },
    {
      "cell_type": "code",
      "metadata": {
        "id": "c8nGu0Ru7ACL"
      },
      "source": [
        "conn = sqlite3.connect('test.db')\n",
        "\n",
        "cursor = conn.execute(\"SELECT max(salary) FROM COMPANY\")\n",
        "df = get_data(cursor)\n",
        "\n",
        "conn.close()\n",
        "print(\"Operation done successfully\")\n",
        "df"
      ],
      "execution_count": null,
      "outputs": []
    },
    {
      "cell_type": "markdown",
      "metadata": {
        "id": "08Y8Hl7D7DRB"
      },
      "source": [
        "ฟังก์ชัน min ให้ค่าต่ำสุดของคอลัมน์นั้น"
      ]
    },
    {
      "cell_type": "code",
      "metadata": {
        "id": "1ugRmeMB7HCi"
      },
      "source": [
        "conn = sqlite3.connect('test.db')\n",
        "\n",
        "cursor = conn.execute(\"SELECT min(salary) FROM COMPANY\")\n",
        "df = get_data(cursor)\n",
        "\n",
        "conn.close()\n",
        "print(\"Operation done successfully\")\n",
        "df"
      ],
      "execution_count": null,
      "outputs": []
    },
    {
      "cell_type": "markdown",
      "metadata": {
        "id": "It8ZEcxM7JbZ"
      },
      "source": [
        "ฟังก์ชัน avg ให้ค่าเฉลี่ยของคอลัมน์นั้น"
      ]
    },
    {
      "cell_type": "code",
      "metadata": {
        "id": "9FIV0tsl7NRQ"
      },
      "source": [
        "conn = sqlite3.connect('test.db')\n",
        "\n",
        "cursor = conn.execute(\"SELECT avg(salary) FROM COMPANY\")\n",
        "df = get_data(cursor)\n",
        "\n",
        "conn.close()\n",
        "print(\"Operation done successfully\")\n",
        "df"
      ],
      "execution_count": null,
      "outputs": []
    },
    {
      "cell_type": "markdown",
      "metadata": {
        "id": "D5P0Ny-67PvJ"
      },
      "source": [
        "ฟังก์ชัน sum ให้ค่าผลรวมของคอลัมน์นั้น"
      ]
    },
    {
      "cell_type": "code",
      "metadata": {
        "id": "EELTVfET7TI4"
      },
      "source": [
        "conn = sqlite3.connect('test.db')\n",
        "\n",
        "cursor = conn.execute(\"SELECT sum(salary) FROM COMPANY\")\n",
        "df = get_data(cursor)\n",
        "\n",
        "conn.close()\n",
        "print(\"Operation done successfully\")\n",
        "df"
      ],
      "execution_count": null,
      "outputs": []
    },
    {
      "cell_type": "markdown",
      "metadata": {
        "id": "vrJD-e_Z9Jd8"
      },
      "source": [
        "ฟังก์ชัน random จะให้ค่าจำนวเต็มระหว่าง -9223372036854775808 กับ +9223372036854775807"
      ]
    },
    {
      "cell_type": "code",
      "metadata": {
        "id": "_gMMSpe59NLA"
      },
      "source": [
        "conn = sqlite3.connect('test.db')\n",
        "\n",
        "cursor = conn.execute(\"SELECT random() AS Random\")\n",
        "df = get_data(cursor)\n",
        "\n",
        "conn.close()\n",
        "print(\"Operation done successfully\")\n",
        "df"
      ],
      "execution_count": null,
      "outputs": []
    },
    {
      "cell_type": "markdown",
      "metadata": {
        "id": "SXjOsPpR9Q8h"
      },
      "source": [
        "ฟังก์ชัน abs, upper, lower, length"
      ]
    },
    {
      "cell_type": "code",
      "metadata": {
        "id": "9AHIpeCE9ZD2"
      },
      "source": [
        "conn = sqlite3.connect('test.db')\n",
        "\n",
        "cursor = conn.execute(\"SELECT abs(5), abs(-15), abs(NULL), abs(0), abs('ABC')\")\n",
        "df = get_data(cursor)\n",
        "\n",
        "conn.close()\n",
        "print(\"Operation done successfully\")\n",
        "df"
      ],
      "execution_count": null,
      "outputs": []
    },
    {
      "cell_type": "code",
      "metadata": {
        "id": "M68s3ILC9fO_"
      },
      "source": [
        "conn = sqlite3.connect('test.db')\n",
        "\n",
        "cursor = conn.execute(\"SELECT upper(name) FROM COMPANY\")\n",
        "df = get_data(cursor)\n",
        "\n",
        "conn.close()\n",
        "print(\"Operation done successfully\")\n",
        "df"
      ],
      "execution_count": null,
      "outputs": []
    },
    {
      "cell_type": "code",
      "metadata": {
        "id": "N1GDseCF9iJP"
      },
      "source": [
        "conn = sqlite3.connect('test.db')\n",
        "\n",
        "cursor = conn.execute(\"SELECT lower(name) FROM COMPANY\")\n",
        "df = get_data(cursor)\n",
        "\n",
        "conn.close()\n",
        "print(\"Operation done successfully\")\n",
        "df"
      ],
      "execution_count": null,
      "outputs": []
    },
    {
      "cell_type": "code",
      "metadata": {
        "id": "KF0lXf4m9mBX"
      },
      "source": [
        "conn = sqlite3.connect('test.db')\n",
        "\n",
        "cursor = conn.execute(\"SELECT name, length(name) FROM COMPANY\")\n",
        "df = get_data(cursor)\n",
        "\n",
        "conn.close()\n",
        "print(\"Operation done successfully\")\n",
        "df"
      ],
      "execution_count": null,
      "outputs": []
    }
  ]
}